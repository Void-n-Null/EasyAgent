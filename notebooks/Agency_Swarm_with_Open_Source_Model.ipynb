{
 "nbformat": 4,
 "nbformat_minor": 0,
 "metadata": {
  "colab": {
   "provenance": []
  },
  "kernelspec": {
   "name": "python3",
   "display_name": "Python 3 (ipykernel)",
   "language": "python"
  },
  "language_info": {
   "name": "python"
  }
 },
 "cells": [
  {
   "cell_type": "code",
   "metadata": {
    "colab": {
     "base_uri": "https://localhost:8080/"
    },
    "id": "kgFdcp7fuQwO",
    "outputId": "61831af6-377d-492e-a1c4-91ebae2c1145",
    "ExecuteTime": {
     "end_time": "2024-04-18T04:42:43.224124Z",
     "start_time": "2024-04-18T04:42:27.975659Z"
    }
   },
   "source": [
    "!pip install agency-swarm streaming_assistants gradio"
   ],
   "execution_count": 1,
   "outputs": []
  },
  {
   "cell_type": "code",
   "source": [
    "import getpass\n",
    "import os\n",
    "\n",
    "# https://astra.datastax.com/ --> tokens --> administrator user --> generate\n",
    "os.environ['ASTRA_DB_APPLICATION_TOKEN'] = getpass.getpass('Enter your ASTRA_DB_APPLICATION_TOKEN: ')\n",
    "\n",
    "# https://www.perplexity.ai/settings/api  --> generate\n",
    "os.environ['PERPLEXITYAI_API_KEY'] = getpass.getpass('Enter your PERPLEXITYAI_API_KEY: ')\n",
    "\n",
    "# https://platform.openai.com/api-keys --> create new secret key\n",
    "os.environ['OPENAI_API_KEY'] = getpass.getpass('Enter your Open AI Key: ')\n"
   ],
   "metadata": {
    "colab": {
     "base_uri": "https://localhost:8080/"
    },
    "id": "piYZo8KuRKpH",
    "outputId": "7c97161c-c9ec-41ba-ff1c-62f9b377b0fb",
    "ExecuteTime": {
     "end_time": "2024-04-18T04:42:58.028358Z",
     "start_time": "2024-04-18T04:42:44.048328Z"
    }
   },
   "execution_count": 2,
   "outputs": []
  },
  {
   "cell_type": "code",
   "source": [
    "os.environ['ASTRA_DB_APPLICATION_TOKEN'] = \"AstraCS:rGBeZiryvBFQDamWoXOCpkmB:be0224f258a16b51de5ee0ac937fe9b3af97e30f54a3c540f343ff722fa10756\""
   ],
   "metadata": {
    "id": "vYKUoNlkb-eS"
   },
   "execution_count": 9,
   "outputs": []
  },
  {
   "cell_type": "code",
   "source": [
    "from openai import OpenAI\n",
    "from streaming_assistants import patch\n",
    "client = patch(OpenAI())"
   ],
   "metadata": {
    "colab": {
     "base_uri": "https://localhost:8080/"
    },
    "id": "eyzxn-P-uuKU",
    "outputId": "02124adf-e538-486a-b08f-1db09152edef",
    "ExecuteTime": {
     "end_time": "2024-04-18T04:55:26.877347Z",
     "start_time": "2024-04-18T04:55:25.977826Z"
    }
   },
   "execution_count": 1,
   "outputs": []
  },
  {
   "cell_type": "code",
   "source": [
    "from agency_swarm import set_openai_client\n",
    "set_openai_client(client)"
   ],
   "metadata": {
    "id": "MZJYVOr7vVIt",
    "ExecuteTime": {
     "end_time": "2024-04-18T04:55:28.580456Z",
     "start_time": "2024-04-18T04:55:28.427069Z"
    }
   },
   "execution_count": 2,
   "outputs": []
  },
  {
   "cell_type": "code",
   "source": [
    "from agency_swarm.tools import BaseTool\n",
    "\n",
    "class TestTool(BaseTool):\n",
    "    \"\"\"\n",
    "    A simple tool that prints 'test'.\n",
    "    \"\"\"\n",
    "\n",
    "    def run(self):\n",
    "        \"\"\"\n",
    "        This method prints the word 'test'.\n",
    "        \"\"\"\n",
    "        print(\"test\")\n",
    "        return \"Test has been printed.\""
   ],
   "metadata": {
    "id": "rwZ7aTHYSd8J",
    "ExecuteTime": {
     "end_time": "2024-04-18T04:55:28.792018Z",
     "start_time": "2024-04-18T04:55:28.789194Z"
    }
   },
   "execution_count": 3,
   "outputs": []
  },
  {
   "metadata": {
    "ExecuteTime": {
     "end_time": "2024-04-18T04:55:29.423857Z",
     "start_time": "2024-04-18T04:55:29.422042Z"
    }
   },
   "cell_type": "code",
   "source": [
    "import sys\n",
    "sys.path.insert(0, '../agency-swarm')"
   ],
   "execution_count": 4,
   "outputs": []
  },
  {
   "metadata": {
    "ExecuteTime": {
     "end_time": "2024-04-18T04:55:30.178117Z",
     "start_time": "2024-04-18T04:55:30.163580Z"
    }
   },
   "cell_type": "code",
   "source": [
    "%load_ext autoreload\n",
    "%autoreload 2"
   ],
   "execution_count": 5,
   "outputs": []
  },
  {
   "cell_type": "code",
   "source": [
    "from agency_swarm import Agent\n",
    "\n",
    "ceo = Agent(name=\"CEO\",\n",
    "            description=\"Responsible for client communication, task planning and management.\",\n",
    "            instructions=\"You are a test agent made for demostration purposes.\",\n",
    "            model=\"perplexity/mixtral-8x7b-instruct\",\n",
    "            files_folder=\"./files\",\n",
    "            tools=[TestTool])"
   ],
   "metadata": {
    "colab": {
     "base_uri": "https://localhost:8080/",
     "height": 408
    },
    "id": "QxXyyuH7vovu",
    "outputId": "f81a523e-ecad-42ca-955b-c7e53b39d3cd",
    "ExecuteTime": {
     "end_time": "2024-04-18T04:55:32.101867Z",
     "start_time": "2024-04-18T04:55:30.814044Z"
    }
   },
   "execution_count": 6,
   "outputs": []
  },
  {
   "cell_type": "code",
   "source": [
    "from agency_swarm import Agency\n",
    "\n",
    "agency = Agency([\n",
    "    ceo,\n",
    "])"
   ],
   "metadata": {
    "id": "_aN9CU6GQ-Ga"
   },
   "execution_count": 15,
   "outputs": []
  },
  {
   "cell_type": "code",
   "source": [
    "agency.demo_gradio(height=900)"
   ],
   "metadata": {
    "colab": {
     "base_uri": "https://localhost:8080/",
     "height": 1000
    },
    "id": "PPedd_AcRXhE",
    "outputId": "7bcb3859-4ae6-4de9-d582-1cdff2ddf9f3"
   },
   "execution_count": 17,
   "outputs": []
  },
  {
   "cell_type": "code",
   "source": [],
   "metadata": {
    "id": "7r29O7ApSpUq"
   },
   "execution_count": null,
   "outputs": []
  }
 ]
}
